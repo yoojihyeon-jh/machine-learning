{
 "cells": [
  {
   "cell_type": "markdown",
   "id": "f6b25b40-022e-4582-a0de-7a91186ed6bc",
   "metadata": {},
   "source": [
    "순차데이터(sequential data)\n",
    "- 텍스트나 시계열 데이터와 같이 순서에 의미가 있는 데이터\n",
    "- 대표적인 순차 데이터로는 글, 대화, 일자별 날씨, 일자별 판매 실적 등을 예로 들 수 있다."
   ]
  },
  {
   "cell_type": "markdown",
   "id": "1ed3d4fb-3387-4e40-b989-ab63f837b412",
   "metadata": {},
   "source": [
    "** 피드포워드 신경망(feedforward neural network)\n",
    "- 입력 데이터의 흐름이 앞으로만 전달되는 신경망\n",
    "- 완전 연결신경망, 합성곱 신경망.\n",
    "\n",
    "**순환 신경망(recurrent neural network, RNN)\n",
    "- 이전 데이터가 신경망 층에 순환되는 신경망\n",
    "- 순차데이터에 잘 맞는 인공 신경망의 한 종류로 순차 데이터를 처리하기 위해 고안된 순환층을 1개 이상 사용한 신경망\n",
    "- 은닉층의 활성화 함수로 하이퍼볼릭 탄젠트(hyperbolic tangent) 함수인 tanh를 많이 사용. -> 시그모이드 함수와 달리 -1~1사이의 범위를 가지는 S자 모양을 가지는 함수.\n",
    "- 순환 신경망의 뉴런은 이전 타임스텝의 은닉 상태에 곱해지는 가중치가 하나 더 있으며, 뉴런마다 하나의 절편이 포함됨.\n",
    "- 마지막에는 밀집층을 두어 클래스를 분류.\n",
    "  1. 다중분류일 경우에는 출력층에 클래스 개수만큼 뉴런을 두고 소프트맥스 활성화 함수를 사용\n",
    "  2. 이진분류일 경우에는 하나의 뉴런을 두고 시그모이드 활성화 함수를 사용.\n",
    "- 마지막 셀의 출력이 1차원이기 때문에 Flatten 클래스로 펼칠 필요가 없다.\n",
    "- 순환층을 셀, 셀의 출력을 은닉 상태라고 부른다."
   ]
  },
  {
   "cell_type": "markdown",
   "id": "1ada2c63-64d0-4e82-9d92-b03c2391773e",
   "metadata": {},
   "source": [
    "셀의 가중치와 입출력\n",
    "=> 순환층에 입력되는 특성의 개수가 4개이고 순환층의 뉴런이 3개라고 가정했을때\n",
    "\n",
    " - 입력층과 순환층의 뉴런이 모두 완전 연결되기 때문에 가중치 Wx의 크기는 4 x 3 =12개\n",
    " - 순환층에서 다음 타임스텝에 재사용되는 은닉 상태를 위한 가중치 Wh의 크기는  3 X 3 = 9개\n",
    " - 모델 파라미터 개수는 12 + 9 + 3(뉴런마다 하나의 절편이 있으므로) = 24개\n",
    "\n",
    "** 순환층은 일반적으로 샘플마다 2개의 차원을 가지며, 보통 하나의 샘플을 하나의 시퀀스라고 한다."
   ]
  },
  {
   "cell_type": "code",
   "execution_count": null,
   "id": "e8a89fda-0271-414a-ad76-ff2ca5b064e7",
   "metadata": {},
   "outputs": [],
   "source": []
  },
  {
   "cell_type": "code",
   "execution_count": null,
   "id": "c82add2e-d319-4d89-91b3-82dd86b4146d",
   "metadata": {},
   "outputs": [],
   "source": []
  }
 ],
 "metadata": {
  "kernelspec": {
   "display_name": "secondnv",
   "language": "python",
   "name": "secondnv"
  },
  "language_info": {
   "codemirror_mode": {
    "name": "ipython",
    "version": 3
   },
   "file_extension": ".py",
   "mimetype": "text/x-python",
   "name": "python",
   "nbconvert_exporter": "python",
   "pygments_lexer": "ipython3",
   "version": "3.9.18"
  }
 },
 "nbformat": 4,
 "nbformat_minor": 5
}
