{
 "cells": [
  {
   "cell_type": "markdown",
   "id": "e84f7d7e-0603-4e73-8033-6a88eee6492e",
   "metadata": {},
   "source": [
    "LSTM(Long Short-Term Memory) 구조\n",
    "- 입력과 가중치를 곱하고 절편을 더해 활성화 함수를 통과시키는 구조를 여러개 가지고 있다.\n",
    "- 은닉상태는 이전 타임스텝의 은닉 상태를 가중치에 곱한 후 활성화 함수를 통과시켜 다음 은닉 상태를 만든다.\n",
    "  이때, 기본 순환층과는 달리 시그모이드 활성화 함수 사용.\n",
    "  또 tanh 활성화 함수를 통과한 어떤 값과 곱해져서 은닉 상태를 만든다.\n",
    "- 순환되는 상태가 2개.\n",
    "  은닉상태와 달리 다음 층으로 전달되지 않고 LSTM 셀에서 순환만 되는 셀 상태라고 부르는 값\n",
    "  ** 셀상태를 계산하는 과정: 1. 먼저 입력과 은닉 상태를 또 다른 가중치에 곱한 다음 시그모이드 함수를 통과시킨다.\n",
    "                             2. 이전 타임스텝의 셀 상태와 곱하여 새로운 셀 상태를 만든다.\n",
    "                                (이셀 상태가 tanh 함수를 통과하여 새로운 은닉 상태를 만드는데 기여함)\n",
    "                             3. 여기에 2개의 작은 셀이 더 추가되어 셀 상태를 만드는데 기여.\n",
    "                                (이전과 마찬가지고 입력과 은닉 상태를 각기 다른 가중치에 곱한 다음, 하나는 시그모이드 함수를 통과시키고\n",
    "                                 다른 하나는 tanh 함수를 통과시킨 후 두 결과를 곱한 후 이전 셀 상태와 더한 결과가 최종적인 다음 셀 상                                    태가 된다.)\n",
    "\n",
    "\n",
    "- 삭제게이트: 셀 상태에 있는 정보를 제거\n",
    "- 입력게이트: 새로운 정보를 셀 상태에 추가\n",
    "- 출력게이트: 다음 은닉 상태로 출력"
   ]
  },
  {
   "cell_type": "markdown",
   "id": "7610be15-0793-47a5-8671-9d69d454dc28",
   "metadata": {},
   "source": [
    "LSTM 신경망 훈련하기"
   ]
  },
  {
   "cell_type": "code",
   "execution_count": 30,
   "id": "5d41a7a0-8307-402e-999f-4b7da2aef370",
   "metadata": {},
   "outputs": [],
   "source": [
    "# 500개의 단어를 사용하여 훈련세트와 검증 세트 나누기\n",
    "from tensorflow.keras.datasets import imdb\n",
    "from sklearn.model_selection import train_test_split\n",
    "(train_input, train_target), (test_input, test_target) = imdb.load_data(num_words=500)\n",
    "train_input, val_input, train_target, val_target = train_test_split(train_input, train_target, test_size=0.2, random_state=42)"
   ]
  },
  {
   "cell_type": "code",
   "execution_count": 2,
   "id": "3af08fc8-0ebe-4564-b4c1-01e2ee6256f3",
   "metadata": {},
   "outputs": [],
   "source": [
    "# 길이를 100으로 맞추고 부족할때는 패딩추가\n",
    "from tensorflow.keras.preprocessing.sequence import pad_sequences\n",
    "train_seq = pad_sequences(train_input, maxlen=100)\n",
    "val_seq = pad_sequences(val_input, maxlen=100)"
   ]
  },
  {
   "cell_type": "code",
   "execution_count": 3,
   "id": "70360e89-5f8c-4199-80f1-166162d6dddd",
   "metadata": {},
   "outputs": [],
   "source": [
    "from tensorflow import keras\n",
    "model=keras.Sequential()\n",
    "model.add(keras.layers.Embedding(500, 16, input_length=100))\n",
    "model.add(keras.layers.LSTM(8))\n",
    "model.add(keras.layers.Dense(1, activation='sigmoid'))"
   ]
  },
  {
   "cell_type": "code",
   "execution_count": 4,
   "id": "dd797977-f770-47dd-bc39-0ae3c59a67b7",
   "metadata": {},
   "outputs": [
    {
     "name": "stdout",
     "output_type": "stream",
     "text": [
      "Model: \"sequential\"\n",
      "_________________________________________________________________\n",
      " Layer (type)                Output Shape              Param #   \n",
      "=================================================================\n",
      " embedding (Embedding)       (None, 100, 16)           8000      \n",
      "                                                                 \n",
      " lstm (LSTM)                 (None, 8)                 800       \n",
      "                                                                 \n",
      " dense (Dense)               (None, 1)                 9         \n",
      "                                                                 \n",
      "=================================================================\n",
      "Total params: 8,809\n",
      "Trainable params: 8,809\n",
      "Non-trainable params: 0\n",
      "_________________________________________________________________\n"
     ]
    }
   ],
   "source": [
    "model.summary()"
   ]
  },
  {
   "cell_type": "code",
   "execution_count": 5,
   "id": "ab48a54c-3fe7-4700-bb59-98791f75259b",
   "metadata": {},
   "outputs": [
    {
     "name": "stdout",
     "output_type": "stream",
     "text": [
      "Epoch 1/100\n",
      "313/313 [==============================] - 5s 9ms/step - loss: 0.6926 - accuracy: 0.5319 - val_loss: 0.6918 - val_accuracy: 0.5748\n",
      "Epoch 2/100\n",
      "313/313 [==============================] - 2s 8ms/step - loss: 0.6905 - accuracy: 0.6012 - val_loss: 0.6890 - val_accuracy: 0.6174\n",
      "Epoch 3/100\n",
      "313/313 [==============================] - 2s 8ms/step - loss: 0.6853 - accuracy: 0.6375 - val_loss: 0.6809 - val_accuracy: 0.6424\n",
      "Epoch 4/100\n",
      "313/313 [==============================] - 2s 8ms/step - loss: 0.6603 - accuracy: 0.6370 - val_loss: 0.6291 - val_accuracy: 0.6584\n",
      "Epoch 5/100\n",
      "313/313 [==============================] - 2s 8ms/step - loss: 0.5997 - accuracy: 0.7218 - val_loss: 0.5914 - val_accuracy: 0.7376\n",
      "Epoch 6/100\n",
      "313/313 [==============================] - 2s 8ms/step - loss: 0.5713 - accuracy: 0.7542 - val_loss: 0.5704 - val_accuracy: 0.7546\n",
      "Epoch 7/100\n",
      "313/313 [==============================] - 2s 8ms/step - loss: 0.5519 - accuracy: 0.7653 - val_loss: 0.5532 - val_accuracy: 0.7604\n",
      "Epoch 8/100\n",
      "313/313 [==============================] - 2s 8ms/step - loss: 0.5354 - accuracy: 0.7710 - val_loss: 0.5345 - val_accuracy: 0.7738\n",
      "Epoch 9/100\n",
      "313/313 [==============================] - 2s 8ms/step - loss: 0.5208 - accuracy: 0.7778 - val_loss: 0.5205 - val_accuracy: 0.7816\n",
      "Epoch 10/100\n",
      "313/313 [==============================] - 2s 8ms/step - loss: 0.5066 - accuracy: 0.7818 - val_loss: 0.5075 - val_accuracy: 0.7838\n",
      "Epoch 11/100\n",
      "313/313 [==============================] - 2s 7ms/step - loss: 0.4939 - accuracy: 0.7857 - val_loss: 0.4957 - val_accuracy: 0.7850\n",
      "Epoch 12/100\n",
      "313/313 [==============================] - 2s 7ms/step - loss: 0.4823 - accuracy: 0.7887 - val_loss: 0.4886 - val_accuracy: 0.7792\n",
      "Epoch 13/100\n",
      "313/313 [==============================] - 2s 8ms/step - loss: 0.4723 - accuracy: 0.7914 - val_loss: 0.4805 - val_accuracy: 0.7864\n",
      "Epoch 14/100\n",
      "313/313 [==============================] - 2s 8ms/step - loss: 0.4632 - accuracy: 0.7951 - val_loss: 0.4715 - val_accuracy: 0.7906\n",
      "Epoch 15/100\n",
      "313/313 [==============================] - 2s 7ms/step - loss: 0.4559 - accuracy: 0.7992 - val_loss: 0.4667 - val_accuracy: 0.7888\n",
      "Epoch 16/100\n",
      "313/313 [==============================] - 2s 8ms/step - loss: 0.4494 - accuracy: 0.8016 - val_loss: 0.4641 - val_accuracy: 0.7890\n",
      "Epoch 17/100\n",
      "313/313 [==============================] - 2s 8ms/step - loss: 0.4439 - accuracy: 0.8027 - val_loss: 0.4581 - val_accuracy: 0.7910\n",
      "Epoch 18/100\n",
      "313/313 [==============================] - 2s 8ms/step - loss: 0.4392 - accuracy: 0.8048 - val_loss: 0.4532 - val_accuracy: 0.7902\n",
      "Epoch 19/100\n",
      "313/313 [==============================] - 2s 7ms/step - loss: 0.4348 - accuracy: 0.8078 - val_loss: 0.4500 - val_accuracy: 0.7930\n",
      "Epoch 20/100\n",
      "313/313 [==============================] - 2s 7ms/step - loss: 0.4312 - accuracy: 0.8081 - val_loss: 0.4479 - val_accuracy: 0.7948\n",
      "Epoch 21/100\n",
      "313/313 [==============================] - 2s 8ms/step - loss: 0.4286 - accuracy: 0.8084 - val_loss: 0.4453 - val_accuracy: 0.7966\n",
      "Epoch 22/100\n",
      "313/313 [==============================] - 2s 8ms/step - loss: 0.4261 - accuracy: 0.8114 - val_loss: 0.4447 - val_accuracy: 0.7940\n",
      "Epoch 23/100\n",
      "313/313 [==============================] - 2s 7ms/step - loss: 0.4238 - accuracy: 0.8119 - val_loss: 0.4433 - val_accuracy: 0.7938\n",
      "Epoch 24/100\n",
      "313/313 [==============================] - 2s 8ms/step - loss: 0.4220 - accuracy: 0.8128 - val_loss: 0.4408 - val_accuracy: 0.7990\n",
      "Epoch 25/100\n",
      "313/313 [==============================] - 2s 8ms/step - loss: 0.4208 - accuracy: 0.8143 - val_loss: 0.4426 - val_accuracy: 0.7992\n",
      "Epoch 26/100\n",
      "313/313 [==============================] - 2s 8ms/step - loss: 0.4190 - accuracy: 0.8142 - val_loss: 0.4399 - val_accuracy: 0.8024\n",
      "Epoch 27/100\n",
      "313/313 [==============================] - 2s 8ms/step - loss: 0.4182 - accuracy: 0.8136 - val_loss: 0.4383 - val_accuracy: 0.8026\n",
      "Epoch 28/100\n",
      "313/313 [==============================] - 2s 7ms/step - loss: 0.4171 - accuracy: 0.8144 - val_loss: 0.4382 - val_accuracy: 0.7974\n",
      "Epoch 29/100\n",
      "313/313 [==============================] - 2s 7ms/step - loss: 0.4159 - accuracy: 0.8153 - val_loss: 0.4380 - val_accuracy: 0.7974\n",
      "Epoch 30/100\n",
      "313/313 [==============================] - 2s 8ms/step - loss: 0.4152 - accuracy: 0.8147 - val_loss: 0.4373 - val_accuracy: 0.8014\n",
      "Epoch 31/100\n",
      "313/313 [==============================] - 2s 8ms/step - loss: 0.4144 - accuracy: 0.8158 - val_loss: 0.4365 - val_accuracy: 0.8018\n",
      "Epoch 32/100\n",
      "313/313 [==============================] - 2s 7ms/step - loss: 0.4137 - accuracy: 0.8153 - val_loss: 0.4357 - val_accuracy: 0.7996\n",
      "Epoch 33/100\n",
      "313/313 [==============================] - 2s 7ms/step - loss: 0.4128 - accuracy: 0.8169 - val_loss: 0.4354 - val_accuracy: 0.7980\n",
      "Epoch 34/100\n",
      "313/313 [==============================] - 2s 7ms/step - loss: 0.4123 - accuracy: 0.8163 - val_loss: 0.4367 - val_accuracy: 0.8008\n",
      "Epoch 35/100\n",
      "313/313 [==============================] - 2s 7ms/step - loss: 0.4113 - accuracy: 0.8164 - val_loss: 0.4378 - val_accuracy: 0.7954\n",
      "Epoch 36/100\n",
      "313/313 [==============================] - 2s 7ms/step - loss: 0.4109 - accuracy: 0.8164 - val_loss: 0.4345 - val_accuracy: 0.8046\n",
      "Epoch 37/100\n",
      "313/313 [==============================] - 2s 8ms/step - loss: 0.4106 - accuracy: 0.8164 - val_loss: 0.4338 - val_accuracy: 0.8046\n",
      "Epoch 38/100\n",
      "313/313 [==============================] - 2s 7ms/step - loss: 0.4099 - accuracy: 0.8170 - val_loss: 0.4333 - val_accuracy: 0.7986\n",
      "Epoch 39/100\n",
      "313/313 [==============================] - 2s 7ms/step - loss: 0.4095 - accuracy: 0.8163 - val_loss: 0.4324 - val_accuracy: 0.8010\n",
      "Epoch 40/100\n",
      "313/313 [==============================] - 2s 7ms/step - loss: 0.4087 - accuracy: 0.8168 - val_loss: 0.4335 - val_accuracy: 0.8042\n",
      "Epoch 41/100\n",
      "313/313 [==============================] - 2s 7ms/step - loss: 0.4079 - accuracy: 0.8154 - val_loss: 0.4333 - val_accuracy: 0.7984\n",
      "Epoch 42/100\n",
      "313/313 [==============================] - 2s 8ms/step - loss: 0.4081 - accuracy: 0.8170 - val_loss: 0.4325 - val_accuracy: 0.8040\n"
     ]
    }
   ],
   "source": [
    "# 모델 컴파일, 훈련\n",
    "rmsprop = keras.optimizers.RMSprop(learning_rate=1e-4)\n",
    "model.compile(optimizer=rmsprop, loss='binary_crossentropy', metrics=['accuracy'])\n",
    "checkpoint_cb = keras.callbacks.ModelCheckpoint('best-lstm-model.h5', save_best_only=True)\n",
    "early_stopping_cb=keras.callbacks.EarlyStopping(patience=3, restore_best_weights=True)\n",
    "history=model.fit(train_seq, train_target, epochs=100, batch_size=64, validation_data=(val_seq, val_target), callbacks=[checkpoint_cb, early_stopping_cb])"
   ]
  },
  {
   "cell_type": "code",
   "execution_count": 6,
   "id": "235103e5-d003-4904-98a5-5610752a7dd7",
   "metadata": {},
   "outputs": [
    {
     "data": {
      "image/png": "[encoded data removed]",
      "text/plain": [
       "<Figure size 640x480 with 1 Axes>"
      ]
     },
     "metadata": {},
     "output_type": "display_data"
    }
   ],
   "source": [
    "# 훈련손실, 검증손실 그래프 그리기\n",
    "import matplotlib.pyplot as plt\n",
    "plt.plot(history.history['loss'])\n",
    "plt.plot(history.history['val_loss'])\n",
    "plt.xlabel('epoch')\n",
    "plt.ylabel('loss')\n",
    "plt.legend(['train','val'])\n",
    "plt.show()"
   ]
  },
  {
   "cell_type": "markdown",
   "id": "1593614b-503d-44d9-a7df-0361c2919d05",
   "metadata": {},
   "source": [
    "순환층에 드롭아웃 적용하기\n",
    "-순환층은 자체적으로 드롭아웃 기능 제공.\n",
    "-SimpleRNN과 LSTM 모두 dropout 매개변수와 recurrent_dropout 매개변수를 가지고 있다.\n",
    "-dropout 매개변수는 셀의 입력에 드롭아웃을 적용하고, recurrent_dropout(GPU를 사용하여 모델 훈련할수 없음)은 순환되는 은닉상태에 드롭아웃 적용.\n"
   ]
  },
  {
   "cell_type": "code",
   "execution_count": 7,
   "id": "869a62da-f147-4922-8204-5960b25f511c",
   "metadata": {},
   "outputs": [],
   "source": [
    "model2=keras.Sequential()\n",
    "model2.add(keras.layers.Embedding(500, 16, input_length=100))\n",
    "model2.add(keras.layers.LSTM(8, dropout=0.3))\n",
    "model2.add(keras.layers.Dense(1, activation='sigmoid'))"
   ]
  },
  {
   "cell_type": "code",
   "execution_count": 8,
   "id": "b08e4857-dd43-4f26-97ce-065273fd80ba",
   "metadata": {},
   "outputs": [
    {
     "name": "stdout",
     "output_type": "stream",
     "text": [
      "Epoch 1/100\n",
      "313/313 [==============================] - 4s 9ms/step - loss: 0.6915 - accuracy: 0.5362 - val_loss: 0.6885 - val_accuracy: 0.6060\n",
      "Epoch 2/100\n",
      "313/313 [==============================] - 2s 8ms/step - loss: 0.6836 - accuracy: 0.6222 - val_loss: 0.6745 - val_accuracy: 0.6688\n",
      "Epoch 3/100\n",
      "313/313 [==============================] - 2s 7ms/step - loss: 0.6398 - accuracy: 0.6878 - val_loss: 0.5992 - val_accuracy: 0.7192\n",
      "Epoch 4/100\n",
      "313/313 [==============================] - 2s 7ms/step - loss: 0.5819 - accuracy: 0.7190 - val_loss: 0.5681 - val_accuracy: 0.7410\n",
      "Epoch 5/100\n",
      "313/313 [==============================] - 2s 8ms/step - loss: 0.5587 - accuracy: 0.7370 - val_loss: 0.5472 - val_accuracy: 0.7578\n",
      "Epoch 6/100\n",
      "313/313 [==============================] - 2s 8ms/step - loss: 0.5411 - accuracy: 0.7512 - val_loss: 0.5332 - val_accuracy: 0.7570\n",
      "Epoch 7/100\n",
      "313/313 [==============================] - 2s 8ms/step - loss: 0.5270 - accuracy: 0.7590 - val_loss: 0.5180 - val_accuracy: 0.7690\n",
      "Epoch 8/100\n",
      "313/313 [==============================] - 2s 8ms/step - loss: 0.5125 - accuracy: 0.7685 - val_loss: 0.5057 - val_accuracy: 0.7734\n",
      "Epoch 9/100\n",
      "313/313 [==============================] - 2s 8ms/step - loss: 0.5003 - accuracy: 0.7738 - val_loss: 0.4942 - val_accuracy: 0.7764\n",
      "Epoch 10/100\n",
      "313/313 [==============================] - 2s 8ms/step - loss: 0.4883 - accuracy: 0.7772 - val_loss: 0.4840 - val_accuracy: 0.7834\n",
      "Epoch 11/100\n",
      "313/313 [==============================] - 2s 8ms/step - loss: 0.4768 - accuracy: 0.7857 - val_loss: 0.4782 - val_accuracy: 0.7786\n",
      "Epoch 12/100\n",
      "313/313 [==============================] - 2s 8ms/step - loss: 0.4656 - accuracy: 0.7895 - val_loss: 0.4647 - val_accuracy: 0.7864\n",
      "Epoch 13/100\n",
      "313/313 [==============================] - 2s 8ms/step - loss: 0.4588 - accuracy: 0.7915 - val_loss: 0.4590 - val_accuracy: 0.7892\n",
      "Epoch 14/100\n",
      "313/313 [==============================] - 2s 8ms/step - loss: 0.4522 - accuracy: 0.7955 - val_loss: 0.4547 - val_accuracy: 0.7912\n",
      "Epoch 15/100\n",
      "313/313 [==============================] - 2s 8ms/step - loss: 0.4504 - accuracy: 0.7931 - val_loss: 0.4535 - val_accuracy: 0.7946\n",
      "Epoch 16/100\n",
      "313/313 [==============================] - 2s 8ms/step - loss: 0.4433 - accuracy: 0.7970 - val_loss: 0.4483 - val_accuracy: 0.7986\n",
      "Epoch 17/100\n",
      "313/313 [==============================] - 2s 8ms/step - loss: 0.4414 - accuracy: 0.7992 - val_loss: 0.4465 - val_accuracy: 0.7992\n",
      "Epoch 18/100\n",
      "313/313 [==============================] - 2s 8ms/step - loss: 0.4400 - accuracy: 0.7997 - val_loss: 0.4454 - val_accuracy: 0.7970\n",
      "Epoch 19/100\n",
      "313/313 [==============================] - 2s 8ms/step - loss: 0.4358 - accuracy: 0.8031 - val_loss: 0.4423 - val_accuracy: 0.7984\n",
      "Epoch 20/100\n",
      "313/313 [==============================] - 2s 8ms/step - loss: 0.4324 - accuracy: 0.8047 - val_loss: 0.4430 - val_accuracy: 0.7946\n",
      "Epoch 21/100\n",
      "313/313 [==============================] - 2s 8ms/step - loss: 0.4311 - accuracy: 0.8027 - val_loss: 0.4406 - val_accuracy: 0.7984\n",
      "Epoch 22/100\n",
      "313/313 [==============================] - 2s 8ms/step - loss: 0.4298 - accuracy: 0.8046 - val_loss: 0.4384 - val_accuracy: 0.7998\n",
      "Epoch 23/100\n",
      "313/313 [==============================] - 2s 8ms/step - loss: 0.4277 - accuracy: 0.8054 - val_loss: 0.4422 - val_accuracy: 0.7916\n",
      "Epoch 24/100\n",
      "313/313 [==============================] - 2s 8ms/step - loss: 0.4263 - accuracy: 0.8059 - val_loss: 0.4364 - val_accuracy: 0.8002\n",
      "Epoch 25/100\n",
      "313/313 [==============================] - 2s 8ms/step - loss: 0.4245 - accuracy: 0.8062 - val_loss: 0.4357 - val_accuracy: 0.8014\n",
      "Epoch 26/100\n",
      "313/313 [==============================] - 2s 7ms/step - loss: 0.4206 - accuracy: 0.8115 - val_loss: 0.4387 - val_accuracy: 0.7924\n",
      "Epoch 27/100\n",
      "313/313 [==============================] - 2s 8ms/step - loss: 0.4215 - accuracy: 0.8082 - val_loss: 0.4359 - val_accuracy: 0.8010\n",
      "Epoch 28/100\n",
      "313/313 [==============================] - 2s 8ms/step - loss: 0.4220 - accuracy: 0.8079 - val_loss: 0.4341 - val_accuracy: 0.8018\n",
      "Epoch 29/100\n",
      "313/313 [==============================] - 2s 8ms/step - loss: 0.4223 - accuracy: 0.8071 - val_loss: 0.4334 - val_accuracy: 0.7994\n",
      "Epoch 30/100\n",
      "313/313 [==============================] - 2s 8ms/step - loss: 0.4184 - accuracy: 0.8083 - val_loss: 0.4329 - val_accuracy: 0.8010\n",
      "Epoch 31/100\n",
      "313/313 [==============================] - 2s 8ms/step - loss: 0.4178 - accuracy: 0.8085 - val_loss: 0.4334 - val_accuracy: 0.7936\n",
      "Epoch 32/100\n",
      "313/313 [==============================] - 2s 8ms/step - loss: 0.4173 - accuracy: 0.8097 - val_loss: 0.4328 - val_accuracy: 0.7958\n",
      "Epoch 33/100\n",
      "313/313 [==============================] - 2s 8ms/step - loss: 0.4189 - accuracy: 0.8073 - val_loss: 0.4316 - val_accuracy: 0.7984\n",
      "Epoch 34/100\n",
      "313/313 [==============================] - 2s 8ms/step - loss: 0.4154 - accuracy: 0.8082 - val_loss: 0.4334 - val_accuracy: 0.8048\n",
      "Epoch 35/100\n",
      "313/313 [==============================] - 2s 8ms/step - loss: 0.4173 - accuracy: 0.8086 - val_loss: 0.4319 - val_accuracy: 0.8026\n",
      "Epoch 36/100\n",
      "313/313 [==============================] - 3s 8ms/step - loss: 0.4154 - accuracy: 0.8101 - val_loss: 0.4309 - val_accuracy: 0.7994\n",
      "Epoch 37/100\n",
      "313/313 [==============================] - 2s 8ms/step - loss: 0.4139 - accuracy: 0.8102 - val_loss: 0.4304 - val_accuracy: 0.8012\n",
      "Epoch 38/100\n",
      "313/313 [==============================] - 2s 8ms/step - loss: 0.4133 - accuracy: 0.8126 - val_loss: 0.4346 - val_accuracy: 0.8040\n",
      "Epoch 39/100\n",
      "313/313 [==============================] - 2s 8ms/step - loss: 0.4123 - accuracy: 0.8110 - val_loss: 0.4325 - val_accuracy: 0.8036\n",
      "Epoch 40/100\n",
      "313/313 [==============================] - 2s 8ms/step - loss: 0.4135 - accuracy: 0.8122 - val_loss: 0.4301 - val_accuracy: 0.8020\n",
      "Epoch 41/100\n",
      "313/313 [==============================] - 2s 8ms/step - loss: 0.4130 - accuracy: 0.8105 - val_loss: 0.4301 - val_accuracy: 0.7998\n",
      "Epoch 42/100\n",
      "313/313 [==============================] - 2s 8ms/step - loss: 0.4132 - accuracy: 0.8112 - val_loss: 0.4298 - val_accuracy: 0.8000\n",
      "Epoch 43/100\n",
      "313/313 [==============================] - 2s 8ms/step - loss: 0.4121 - accuracy: 0.8156 - val_loss: 0.4296 - val_accuracy: 0.8014\n",
      "Epoch 44/100\n",
      "313/313 [==============================] - 2s 7ms/step - loss: 0.4114 - accuracy: 0.8124 - val_loss: 0.4314 - val_accuracy: 0.7956\n",
      "Epoch 45/100\n",
      "313/313 [==============================] - 2s 7ms/step - loss: 0.4112 - accuracy: 0.8116 - val_loss: 0.4298 - val_accuracy: 0.7994\n",
      "Epoch 46/100\n",
      "313/313 [==============================] - 2s 8ms/step - loss: 0.4106 - accuracy: 0.8116 - val_loss: 0.4299 - val_accuracy: 0.8052\n"
     ]
    }
   ],
   "source": [
    "rmsprop = keras.optimizers.RMSprop(learning_rate=1e-4)\n",
    "model2.compile(optimizer=rmsprop, loss='binary_crossentropy', metrics=['accuracy'])\n",
    "checkpoint_cb=keras.callbacks.ModelCheckpoint('best-dropout-model.h5', save_best_only=True)\n",
    "early_stopping_cb=keras.callbacks.EarlyStopping(patience=3, restore_best_weights=True)\n",
    "history=model2.fit(train_seq, train_target, epochs=100, batch_size=64, validation_data=(val_seq, val_target), callbacks=[checkpoint_cb, early_stopping_cb])"
   ]
  },
  {
   "cell_type": "code",
   "execution_count": 9,
   "id": "53c4e72b-edf3-43eb-b3bc-500fcd8f2d1c",
   "metadata": {},
   "outputs": [
    {
     "data": {
      "image/png": "[encoded data removed]",
      "text/plain": [
       "<Figure size 640x480 with 1 Axes>"
      ]
     },
     "metadata": {},
     "output_type": "display_data"
    }
   ],
   "source": [
    "# 훈련손실, 검증손실 그래프 그리기\n",
    "import matplotlib.pyplot as plt\n",
    "plt.plot(history.history['loss'])\n",
    "plt.plot(history.history['val_loss'])\n",
    "plt.xlabel('epoch')\n",
    "plt.ylabel('loss')\n",
    "plt.legend(['train','val'])\n",
    "plt.show()"
   ]
  },
  {
   "cell_type": "markdown",
   "id": "1e97a324-66ce-46b4-80d0-2b824b7a87f8",
   "metadata": {},
   "source": [
    "2개의 층을 연결하기\n",
    "- 순환층을 쌓게 되면 모든 순환층에 순차 데이터 필요\n",
    "- 앞쪽의 순환층이 모든 타임스텝에 대한 은닉 상태를 출력해야 함.\n",
    "- 케라스의 순환층에서 모든 타임스텝의 은닉상태를 출력하려면, 마지막을 제외한 다른 모든 순환층에서 return_sequences 매개변수를 True로 지정."
   ]
  },
  {
   "cell_type": "code",
   "execution_count": 10,
   "id": "eca341c8-6fa5-4f23-8e0c-f4fd02f2202e",
   "metadata": {},
   "outputs": [],
   "source": [
    "model3 = keras.Sequential()\n",
    "model3.add(keras.layers.Embedding(500, 16, input_length =100))\n",
    "model3.add(keras.layers.LSTM(8, dropout=0.3, return_sequences=True))\n",
    "model3.add(keras.layers.LSTM(8, dropout=0.3))\n",
    "model3.add(keras.layers.Dense(1, activation = 'sigmoid'))"
   ]
  },
  {
   "cell_type": "code",
   "execution_count": 11,
   "id": "e51567a7-9a6d-4cb7-8a73-11f25aa81c47",
   "metadata": {},
   "outputs": [
    {
     "name": "stdout",
     "output_type": "stream",
     "text": [
      "Model: \"sequential_2\"\n",
      "_________________________________________________________________\n",
      " Layer (type)                Output Shape              Param #   \n",
      "=================================================================\n",
      " embedding_2 (Embedding)     (None, 100, 16)           8000      \n",
      "                                                                 \n",
      " lstm_2 (LSTM)               (None, 100, 8)            800       \n",
      "                                                                 \n",
      " lstm_3 (LSTM)               (None, 8)                 544       \n",
      "                                                                 \n",
      " dense_2 (Dense)             (None, 1)                 9         \n",
      "                                                                 \n",
      "=================================================================\n",
      "Total params: 9,353\n",
      "Trainable params: 9,353\n",
      "Non-trainable params: 0\n",
      "_________________________________________________________________\n"
     ]
    }
   ],
   "source": [
    "model3.summary()"
   ]
  },
  {
   "cell_type": "code",
   "execution_count": 15,
   "id": "3f7c5c20-418f-4b69-b5a0-070ebf123e8a",
   "metadata": {},
   "outputs": [
    {
     "name": "stdout",
     "output_type": "stream",
     "text": [
      "Epoch 1/100\n",
      "313/313 [==============================] - 7s 14ms/step - loss: 0.6927 - accuracy: 0.5473 - val_loss: 0.6920 - val_accuracy: 0.6106\n",
      "Epoch 2/100\n",
      "313/313 [==============================] - 4s 12ms/step - loss: 0.6881 - accuracy: 0.6165 - val_loss: 0.6787 - val_accuracy: 0.6608\n",
      "Epoch 3/100\n",
      "313/313 [==============================] - 4s 12ms/step - loss: 0.6430 - accuracy: 0.6740 - val_loss: 0.6051 - val_accuracy: 0.7122\n",
      "Epoch 4/100\n",
      "313/313 [==============================] - 4s 12ms/step - loss: 0.5935 - accuracy: 0.7161 - val_loss: 0.5707 - val_accuracy: 0.7358\n",
      "Epoch 5/100\n",
      "313/313 [==============================] - 4s 12ms/step - loss: 0.5653 - accuracy: 0.7407 - val_loss: 0.5529 - val_accuracy: 0.7476\n",
      "Epoch 6/100\n",
      "313/313 [==============================] - 4s 12ms/step - loss: 0.5458 - accuracy: 0.7527 - val_loss: 0.5317 - val_accuracy: 0.7614\n",
      "Epoch 7/100\n",
      "313/313 [==============================] - 4s 12ms/step - loss: 0.5276 - accuracy: 0.7620 - val_loss: 0.5189 - val_accuracy: 0.7654\n",
      "Epoch 8/100\n",
      "313/313 [==============================] - 4s 12ms/step - loss: 0.5124 - accuracy: 0.7707 - val_loss: 0.5066 - val_accuracy: 0.7696\n",
      "Epoch 9/100\n",
      "313/313 [==============================] - 4s 12ms/step - loss: 0.5029 - accuracy: 0.7746 - val_loss: 0.5015 - val_accuracy: 0.7678\n",
      "Epoch 10/100\n",
      "313/313 [==============================] - 4s 12ms/step - loss: 0.4935 - accuracy: 0.7782 - val_loss: 0.4898 - val_accuracy: 0.7778\n",
      "Epoch 11/100\n",
      "313/313 [==============================] - 4s 12ms/step - loss: 0.4850 - accuracy: 0.7821 - val_loss: 0.4833 - val_accuracy: 0.7800\n",
      "Epoch 12/100\n",
      "313/313 [==============================] - 4s 12ms/step - loss: 0.4788 - accuracy: 0.7843 - val_loss: 0.4771 - val_accuracy: 0.7814\n",
      "Epoch 13/100\n",
      "313/313 [==============================] - 4s 12ms/step - loss: 0.4720 - accuracy: 0.7871 - val_loss: 0.4717 - val_accuracy: 0.7850\n",
      "Epoch 14/100\n",
      "313/313 [==============================] - 4s 12ms/step - loss: 0.4673 - accuracy: 0.7902 - val_loss: 0.4696 - val_accuracy: 0.7858\n",
      "Epoch 15/100\n",
      "313/313 [==============================] - 4s 12ms/step - loss: 0.4626 - accuracy: 0.7926 - val_loss: 0.4674 - val_accuracy: 0.7838\n",
      "Epoch 16/100\n",
      "313/313 [==============================] - 4s 12ms/step - loss: 0.4588 - accuracy: 0.7941 - val_loss: 0.4602 - val_accuracy: 0.7850\n",
      "Epoch 17/100\n",
      "313/313 [==============================] - 4s 12ms/step - loss: 0.4545 - accuracy: 0.7934 - val_loss: 0.4575 - val_accuracy: 0.7860\n",
      "Epoch 18/100\n",
      "313/313 [==============================] - 4s 11ms/step - loss: 0.4509 - accuracy: 0.7958 - val_loss: 0.4665 - val_accuracy: 0.7860\n",
      "Epoch 19/100\n",
      "313/313 [==============================] - 4s 12ms/step - loss: 0.4482 - accuracy: 0.7979 - val_loss: 0.4529 - val_accuracy: 0.7890\n",
      "Epoch 20/100\n",
      "313/313 [==============================] - 4s 12ms/step - loss: 0.4474 - accuracy: 0.7971 - val_loss: 0.4508 - val_accuracy: 0.7906\n",
      "Epoch 21/100\n",
      "313/313 [==============================] - 4s 12ms/step - loss: 0.4445 - accuracy: 0.7975 - val_loss: 0.4515 - val_accuracy: 0.7910\n",
      "Epoch 22/100\n",
      "313/313 [==============================] - 4s 12ms/step - loss: 0.4404 - accuracy: 0.8008 - val_loss: 0.4475 - val_accuracy: 0.7918\n",
      "Epoch 23/100\n",
      "313/313 [==============================] - 4s 12ms/step - loss: 0.4407 - accuracy: 0.7989 - val_loss: 0.4496 - val_accuracy: 0.7868\n",
      "Epoch 24/100\n",
      "313/313 [==============================] - 4s 12ms/step - loss: 0.4374 - accuracy: 0.8007 - val_loss: 0.4451 - val_accuracy: 0.7942\n",
      "Epoch 25/100\n",
      "313/313 [==============================] - 4s 12ms/step - loss: 0.4359 - accuracy: 0.8025 - val_loss: 0.4438 - val_accuracy: 0.7950\n",
      "Epoch 26/100\n",
      "313/313 [==============================] - 4s 12ms/step - loss: 0.4357 - accuracy: 0.8028 - val_loss: 0.4424 - val_accuracy: 0.7940\n",
      "Epoch 27/100\n",
      "313/313 [==============================] - 4s 12ms/step - loss: 0.4337 - accuracy: 0.8036 - val_loss: 0.4586 - val_accuracy: 0.7822\n",
      "Epoch 28/100\n",
      "313/313 [==============================] - 4s 12ms/step - loss: 0.4350 - accuracy: 0.8005 - val_loss: 0.4447 - val_accuracy: 0.7966\n",
      "Epoch 29/100\n",
      "313/313 [==============================] - 4s 12ms/step - loss: 0.4329 - accuracy: 0.8033 - val_loss: 0.4404 - val_accuracy: 0.7942\n",
      "Epoch 30/100\n",
      "313/313 [==============================] - 4s 12ms/step - loss: 0.4313 - accuracy: 0.8029 - val_loss: 0.4408 - val_accuracy: 0.7934\n",
      "Epoch 31/100\n",
      "313/313 [==============================] - 4s 12ms/step - loss: 0.4318 - accuracy: 0.8031 - val_loss: 0.4403 - val_accuracy: 0.7922\n",
      "Epoch 32/100\n",
      "313/313 [==============================] - 4s 12ms/step - loss: 0.4299 - accuracy: 0.8037 - val_loss: 0.4411 - val_accuracy: 0.7988\n",
      "Epoch 33/100\n",
      "313/313 [==============================] - 4s 12ms/step - loss: 0.4277 - accuracy: 0.8063 - val_loss: 0.4397 - val_accuracy: 0.7974\n",
      "Epoch 34/100\n",
      "313/313 [==============================] - 4s 11ms/step - loss: 0.4284 - accuracy: 0.8052 - val_loss: 0.4398 - val_accuracy: 0.7942\n",
      "Epoch 35/100\n",
      "313/313 [==============================] - 4s 12ms/step - loss: 0.4265 - accuracy: 0.8051 - val_loss: 0.4373 - val_accuracy: 0.7978\n",
      "Epoch 36/100\n",
      "313/313 [==============================] - 4s 12ms/step - loss: 0.4261 - accuracy: 0.8069 - val_loss: 0.4387 - val_accuracy: 0.7948\n",
      "Epoch 37/100\n",
      "313/313 [==============================] - 4s 12ms/step - loss: 0.4262 - accuracy: 0.8056 - val_loss: 0.4375 - val_accuracy: 0.7952\n",
      "Epoch 38/100\n",
      "313/313 [==============================] - 4s 12ms/step - loss: 0.4248 - accuracy: 0.8066 - val_loss: 0.4362 - val_accuracy: 0.7988\n",
      "Epoch 39/100\n",
      "313/313 [==============================] - 4s 12ms/step - loss: 0.4245 - accuracy: 0.8074 - val_loss: 0.4386 - val_accuracy: 0.8008\n",
      "Epoch 40/100\n",
      "313/313 [==============================] - 4s 12ms/step - loss: 0.4248 - accuracy: 0.8075 - val_loss: 0.4390 - val_accuracy: 0.7994\n",
      "Epoch 41/100\n",
      "313/313 [==============================] - 4s 12ms/step - loss: 0.4253 - accuracy: 0.8062 - val_loss: 0.4357 - val_accuracy: 0.7976\n",
      "Epoch 42/100\n",
      "313/313 [==============================] - 4s 12ms/step - loss: 0.4244 - accuracy: 0.8058 - val_loss: 0.4359 - val_accuracy: 0.8008\n",
      "Epoch 43/100\n",
      "313/313 [==============================] - 4s 13ms/step - loss: 0.4248 - accuracy: 0.8060 - val_loss: 0.4398 - val_accuracy: 0.7946\n",
      "Epoch 44/100\n",
      "313/313 [==============================] - 4s 12ms/step - loss: 0.4234 - accuracy: 0.8081 - val_loss: 0.4362 - val_accuracy: 0.7962\n"
     ]
    }
   ],
   "source": [
    "# 모델 훈련\n",
    "rmsprop = keras.optimizers.RMSprop(learning_rate=1e-4)\n",
    "model3.compile(optimizer=rmsprop, loss='binary_crossentropy', metrics=['accuracy'])\n",
    "checkpoint_cb = keras.callbacks.ModelCheckpoint('best-2rnn-model.h5', save_best_only = True)\n",
    "early_stopping_cb = keras.callbacks.EarlyStopping(patience=3, restore_best_weights=True)\n",
    "history = model3.fit(train_seq, train_target, epochs=100, batch_size=64, validation_data=(val_seq, val_target), callbacks=[checkpoint_cb, early_stopping_cb])"
   ]
  },
  {
   "cell_type": "code",
   "execution_count": 16,
   "id": "f81a8ef4-4c50-4a50-8907-3a3a8e764fed",
   "metadata": {},
   "outputs": [
    {
     "data": {
      "image/png": "[encoded data removed]",
      "text/plain": [
       "<Figure size 640x480 with 1 Axes>"
      ]
     },
     "metadata": {},
     "output_type": "display_data"
    }
   ],
   "source": [
    "# 손실그래프로 과대적합 제어 확인\n",
    "plt.plot(history.history['loss'])\n",
    "plt.plot(history.history['val_loss'])\n",
    "plt.xlabel('epoch')\n",
    "plt.ylabel('loss')\n",
    "plt.legend(['train','val'])\n",
    "plt.show()"
   ]
  },
  {
   "cell_type": "markdown",
   "id": "8b4b6e91-fadb-40af-b26b-85beb77995c3",
   "metadata": {},
   "source": [
    "GRU구조(Gated Recurrent Unit)\n",
    "- LSTM처럼 셀 상태를 계산하지 않고 은닉상태 하나만 포함\n",
    "- GRU셀에는 은닉상태와 입력에 가중치를 곱하고 절편을 더하는 작은셀이 3개 들어있고, 3개는 시그모이드 활성화 함수사용 하나는 tang 활성화 함수 사용\n",
    "- GRU셀은 LSTM보다 가중치가 적기 때문에 계산량이 적다."
   ]
  },
  {
   "cell_type": "code",
   "execution_count": 18,
   "id": "7f31ddac-7a10-4cf5-be34-b9ce28bb9f86",
   "metadata": {},
   "outputs": [],
   "source": [
    "# GRU 신경망 훈련하기\n",
    "model4=keras.Sequential()\n",
    "model4.add(keras.layers.Embedding(500, 16, input_length=100))\n",
    "model4.add(keras.layers.GRU(8))\n",
    "model4.add(keras.layers.Dense(1, activation='sigmoid'))"
   ]
  },
  {
   "cell_type": "code",
   "execution_count": 19,
   "id": "30a745d4-1e4b-448f-8435-47010550c468",
   "metadata": {},
   "outputs": [
    {
     "name": "stdout",
     "output_type": "stream",
     "text": [
      "Model: \"sequential_3\"\n",
      "_________________________________________________________________\n",
      " Layer (type)                Output Shape              Param #   \n",
      "=================================================================\n",
      " embedding_3 (Embedding)     (None, 100, 16)           8000      \n",
      "                                                                 \n",
      " gru (GRU)                   (None, 8)                 624       \n",
      "                                                                 \n",
      " dense_3 (Dense)             (None, 1)                 9         \n",
      "                                                                 \n",
      "=================================================================\n",
      "Total params: 8,633\n",
      "Trainable params: 8,633\n",
      "Non-trainable params: 0\n",
      "_________________________________________________________________\n"
     ]
    }
   ],
   "source": [
    "# 모델 구조 확인\n",
    "model4.summary()"
   ]
  },
  {
   "cell_type": "code",
   "execution_count": 22,
   "id": "00efbbe7-9907-442d-bfc7-eb46afc1e62d",
   "metadata": {},
   "outputs": [
    {
     "name": "stdout",
     "output_type": "stream",
     "text": [
      "Epoch 1/100\n",
      "313/313 [==============================] - 4s 9ms/step - loss: 0.6922 - accuracy: 0.5437 - val_loss: 0.6910 - val_accuracy: 0.5728\n",
      "Epoch 2/100\n",
      "313/313 [==============================] - 2s 7ms/step - loss: 0.6894 - accuracy: 0.5926 - val_loss: 0.6879 - val_accuracy: 0.5906\n",
      "Epoch 3/100\n",
      "313/313 [==============================] - 2s 8ms/step - loss: 0.6850 - accuracy: 0.6077 - val_loss: 0.6828 - val_accuracy: 0.6056\n",
      "Epoch 4/100\n",
      "313/313 [==============================] - 2s 7ms/step - loss: 0.6777 - accuracy: 0.6243 - val_loss: 0.6742 - val_accuracy: 0.6202\n",
      "Epoch 5/100\n",
      "313/313 [==============================] - 2s 8ms/step - loss: 0.6652 - accuracy: 0.6412 - val_loss: 0.6591 - val_accuracy: 0.6354\n",
      "Epoch 6/100\n",
      "313/313 [==============================] - 2s 8ms/step - loss: 0.6436 - accuracy: 0.6590 - val_loss: 0.6328 - val_accuracy: 0.6636\n",
      "Epoch 7/100\n",
      "313/313 [==============================] - 2s 7ms/step - loss: 0.6026 - accuracy: 0.6918 - val_loss: 0.5765 - val_accuracy: 0.7170\n",
      "Epoch 8/100\n",
      "313/313 [==============================] - 2s 8ms/step - loss: 0.5323 - accuracy: 0.7431 - val_loss: 0.5235 - val_accuracy: 0.7464\n",
      "Epoch 9/100\n",
      "313/313 [==============================] - 2s 7ms/step - loss: 0.5021 - accuracy: 0.7613 - val_loss: 0.5088 - val_accuracy: 0.7584\n",
      "Epoch 10/100\n",
      "313/313 [==============================] - 2s 8ms/step - loss: 0.4864 - accuracy: 0.7716 - val_loss: 0.4928 - val_accuracy: 0.7640\n",
      "Epoch 11/100\n",
      "313/313 [==============================] - 2s 7ms/step - loss: 0.4740 - accuracy: 0.7812 - val_loss: 0.4828 - val_accuracy: 0.7718\n",
      "Epoch 12/100\n",
      "313/313 [==============================] - 2s 8ms/step - loss: 0.4645 - accuracy: 0.7883 - val_loss: 0.4765 - val_accuracy: 0.7762\n",
      "Epoch 13/100\n",
      "313/313 [==============================] - 2s 8ms/step - loss: 0.4560 - accuracy: 0.7919 - val_loss: 0.4704 - val_accuracy: 0.7790\n",
      "Epoch 14/100\n",
      "313/313 [==============================] - 2s 8ms/step - loss: 0.4497 - accuracy: 0.7957 - val_loss: 0.4652 - val_accuracy: 0.7814\n",
      "Epoch 15/100\n",
      "313/313 [==============================] - 2s 8ms/step - loss: 0.4447 - accuracy: 0.7988 - val_loss: 0.4620 - val_accuracy: 0.7846\n",
      "Epoch 16/100\n",
      "313/313 [==============================] - 2s 7ms/step - loss: 0.4406 - accuracy: 0.8020 - val_loss: 0.4597 - val_accuracy: 0.7888\n",
      "Epoch 17/100\n",
      "313/313 [==============================] - 2s 7ms/step - loss: 0.4368 - accuracy: 0.8034 - val_loss: 0.4590 - val_accuracy: 0.7888\n",
      "Epoch 18/100\n",
      "313/313 [==============================] - 2s 8ms/step - loss: 0.4340 - accuracy: 0.8058 - val_loss: 0.4555 - val_accuracy: 0.7896\n",
      "Epoch 19/100\n",
      "313/313 [==============================] - 2s 7ms/step - loss: 0.4316 - accuracy: 0.8083 - val_loss: 0.4540 - val_accuracy: 0.7906\n",
      "Epoch 20/100\n",
      "313/313 [==============================] - 2s 7ms/step - loss: 0.4299 - accuracy: 0.8086 - val_loss: 0.4540 - val_accuracy: 0.7880\n",
      "Epoch 21/100\n",
      "313/313 [==============================] - 2s 8ms/step - loss: 0.4276 - accuracy: 0.8117 - val_loss: 0.4531 - val_accuracy: 0.7890\n",
      "Epoch 22/100\n",
      "313/313 [==============================] - 2s 8ms/step - loss: 0.4262 - accuracy: 0.8116 - val_loss: 0.4513 - val_accuracy: 0.7890\n",
      "Epoch 23/100\n",
      "313/313 [==============================] - 2s 7ms/step - loss: 0.4247 - accuracy: 0.8120 - val_loss: 0.4597 - val_accuracy: 0.7910\n",
      "Epoch 24/100\n",
      "313/313 [==============================] - 2s 7ms/step - loss: 0.4237 - accuracy: 0.8127 - val_loss: 0.4498 - val_accuracy: 0.7882\n",
      "Epoch 25/100\n",
      "313/313 [==============================] - 2s 7ms/step - loss: 0.4229 - accuracy: 0.8124 - val_loss: 0.4515 - val_accuracy: 0.7894\n",
      "Epoch 26/100\n",
      "313/313 [==============================] - 2s 8ms/step - loss: 0.4217 - accuracy: 0.8144 - val_loss: 0.4488 - val_accuracy: 0.7894\n",
      "Epoch 27/100\n",
      "313/313 [==============================] - 2s 8ms/step - loss: 0.4209 - accuracy: 0.8141 - val_loss: 0.4481 - val_accuracy: 0.7890\n",
      "Epoch 28/100\n",
      "313/313 [==============================] - 2s 7ms/step - loss: 0.4200 - accuracy: 0.8148 - val_loss: 0.4499 - val_accuracy: 0.7902\n",
      "Epoch 29/100\n",
      "313/313 [==============================] - 2s 7ms/step - loss: 0.4193 - accuracy: 0.8150 - val_loss: 0.4469 - val_accuracy: 0.7904\n",
      "Epoch 30/100\n",
      "313/313 [==============================] - 2s 7ms/step - loss: 0.4190 - accuracy: 0.8148 - val_loss: 0.4471 - val_accuracy: 0.7920\n",
      "Epoch 31/100\n",
      "313/313 [==============================] - 2s 7ms/step - loss: 0.4183 - accuracy: 0.8155 - val_loss: 0.4513 - val_accuracy: 0.7888\n",
      "Epoch 32/100\n",
      "313/313 [==============================] - 2s 8ms/step - loss: 0.4175 - accuracy: 0.8137 - val_loss: 0.4462 - val_accuracy: 0.7904\n",
      "Epoch 33/100\n",
      "313/313 [==============================] - 2s 7ms/step - loss: 0.4171 - accuracy: 0.8160 - val_loss: 0.4459 - val_accuracy: 0.7908\n",
      "Epoch 34/100\n",
      "313/313 [==============================] - 2s 8ms/step - loss: 0.4165 - accuracy: 0.8168 - val_loss: 0.4458 - val_accuracy: 0.7918\n",
      "Epoch 35/100\n",
      "313/313 [==============================] - 2s 7ms/step - loss: 0.4161 - accuracy: 0.8152 - val_loss: 0.4461 - val_accuracy: 0.7914\n",
      "Epoch 36/100\n",
      "313/313 [==============================] - 2s 8ms/step - loss: 0.4156 - accuracy: 0.8159 - val_loss: 0.4441 - val_accuracy: 0.7926\n",
      "Epoch 37/100\n",
      "313/313 [==============================] - 2s 7ms/step - loss: 0.4155 - accuracy: 0.8163 - val_loss: 0.4541 - val_accuracy: 0.7864\n",
      "Epoch 38/100\n",
      "313/313 [==============================] - 2s 8ms/step - loss: 0.4153 - accuracy: 0.8158 - val_loss: 0.4428 - val_accuracy: 0.7934\n",
      "Epoch 39/100\n",
      "313/313 [==============================] - 2s 7ms/step - loss: 0.4146 - accuracy: 0.8163 - val_loss: 0.4482 - val_accuracy: 0.7902\n",
      "Epoch 40/100\n",
      "313/313 [==============================] - 2s 8ms/step - loss: 0.4139 - accuracy: 0.8163 - val_loss: 0.4421 - val_accuracy: 0.7942\n",
      "Epoch 41/100\n",
      "313/313 [==============================] - 2s 7ms/step - loss: 0.4140 - accuracy: 0.8166 - val_loss: 0.4426 - val_accuracy: 0.7930\n",
      "Epoch 42/100\n",
      "313/313 [==============================] - 2s 8ms/step - loss: 0.4134 - accuracy: 0.8176 - val_loss: 0.4417 - val_accuracy: 0.7942\n",
      "Epoch 43/100\n",
      "313/313 [==============================] - 2s 7ms/step - loss: 0.4130 - accuracy: 0.8163 - val_loss: 0.4426 - val_accuracy: 0.7926\n",
      "Epoch 44/100\n",
      "313/313 [==============================] - 2s 8ms/step - loss: 0.4134 - accuracy: 0.8155 - val_loss: 0.4410 - val_accuracy: 0.7958\n",
      "Epoch 45/100\n",
      "313/313 [==============================] - 2s 8ms/step - loss: 0.4123 - accuracy: 0.8182 - val_loss: 0.4404 - val_accuracy: 0.7950\n",
      "Epoch 46/100\n",
      "313/313 [==============================] - 2s 7ms/step - loss: 0.4121 - accuracy: 0.8167 - val_loss: 0.4410 - val_accuracy: 0.7958\n",
      "Epoch 47/100\n",
      "313/313 [==============================] - 2s 7ms/step - loss: 0.4119 - accuracy: 0.8178 - val_loss: 0.4401 - val_accuracy: 0.7962\n",
      "Epoch 48/100\n",
      "313/313 [==============================] - 2s 8ms/step - loss: 0.4116 - accuracy: 0.8153 - val_loss: 0.4390 - val_accuracy: 0.7940\n",
      "Epoch 49/100\n",
      "313/313 [==============================] - 2s 7ms/step - loss: 0.4116 - accuracy: 0.8170 - val_loss: 0.4419 - val_accuracy: 0.7954\n",
      "Epoch 50/100\n",
      "313/313 [==============================] - 2s 8ms/step - loss: 0.4113 - accuracy: 0.8160 - val_loss: 0.4389 - val_accuracy: 0.7968\n",
      "Epoch 51/100\n",
      "313/313 [==============================] - 2s 8ms/step - loss: 0.4110 - accuracy: 0.8162 - val_loss: 0.4385 - val_accuracy: 0.7976\n",
      "Epoch 52/100\n",
      "313/313 [==============================] - 2s 7ms/step - loss: 0.4105 - accuracy: 0.8156 - val_loss: 0.4448 - val_accuracy: 0.7962\n",
      "Epoch 53/100\n",
      "313/313 [==============================] - 2s 8ms/step - loss: 0.4107 - accuracy: 0.8166 - val_loss: 0.4378 - val_accuracy: 0.7970\n",
      "Epoch 54/100\n",
      "313/313 [==============================] - 2s 7ms/step - loss: 0.4105 - accuracy: 0.8181 - val_loss: 0.4407 - val_accuracy: 0.7932\n",
      "Epoch 55/100\n",
      "313/313 [==============================] - 2s 8ms/step - loss: 0.4096 - accuracy: 0.8170 - val_loss: 0.4405 - val_accuracy: 0.7938\n",
      "Epoch 56/100\n",
      "313/313 [==============================] - 2s 8ms/step - loss: 0.4096 - accuracy: 0.8162 - val_loss: 0.4372 - val_accuracy: 0.7982\n",
      "Epoch 57/100\n",
      "313/313 [==============================] - 2s 7ms/step - loss: 0.4095 - accuracy: 0.8167 - val_loss: 0.4384 - val_accuracy: 0.7954\n",
      "Epoch 58/100\n",
      "313/313 [==============================] - 2s 7ms/step - loss: 0.4094 - accuracy: 0.8163 - val_loss: 0.4388 - val_accuracy: 0.7946\n",
      "Epoch 59/100\n",
      "313/313 [==============================] - 2s 7ms/step - loss: 0.4088 - accuracy: 0.8162 - val_loss: 0.4374 - val_accuracy: 0.7968\n"
     ]
    }
   ],
   "source": [
    "# GRU 셀을 사용한 순환 신경망 훈련\n",
    "remprop = keras.optimizers.RMSprop(learning_rate=1e-4)\n",
    "model4.compile(optimizer = rmsprop, loss='binary_crossentropy', metrics=['accuracy'])\n",
    "checkpoint_cb = keras.callbacks.ModelCheckpoint('best-gru-model.h5', save_best_only=True)\n",
    "early_stopping_cb = keras.callbacks.EarlyStopping(patience=3, restore_best_weights=True)\n",
    "history=model4.fit(train_seq, train_target, epochs=100, batch_size=64, validation_data=(val_seq, val_target), callbacks=[checkpoint_cb, early_stopping_cb])"
   ]
  },
  {
   "cell_type": "code",
   "execution_count": 23,
   "id": "175a59b0-6b3a-4f9e-a24b-ffa82dfe9057",
   "metadata": {},
   "outputs": [
    {
     "data": {
      "image/png": "[encoded data removed]",
      "text/plain": [
       "<Figure size 640x480 with 1 Axes>"
      ]
     },
     "metadata": {},
     "output_type": "display_data"
    }
   ],
   "source": [
    "# 손실 그래프 확인\n",
    "plt.plot(history.history['loss'])\n",
    "plt.plot(history.history['val_loss'])\n",
    "plt.xlabel('epoch')\n",
    "plt.ylabel('loss')\n",
    "plt.legend(['train','val'])\n",
    "plt.show()"
   ]
  },
  {
   "cell_type": "markdown",
   "id": "6bd79ab6-6a13-43f5-b80d-282e3eef7f0f",
   "metadata": {},
   "source": [
    "LSTM과 GRU셀로 훈련"
   ]
  },
  {
   "cell_type": "code",
   "execution_count": 31,
   "id": "3b45706c-261d-45f2-a4dd-d3e39124b00d",
   "metadata": {},
   "outputs": [
    {
     "name": "stdout",
     "output_type": "stream",
     "text": [
      "782/782 [==============================] - 5s 5ms/step - loss: 0.4307 - accuracy: 0.8000\n"
     ]
    },
    {
     "data": {
      "text/plain": [
       "[0.4306855797767639, 0.8000400066375732]"
      ]
     },
     "execution_count": 31,
     "metadata": {},
     "output_type": "execute_result"
    }
   ],
   "source": [
    "test_seq = pad_sequences(test_input, maxlen=100)\n",
    "rnn_model = keras.models.load_model('best-2rnn-model.h5')\n",
    "rnn_model.evaluate(test_seq, test_target)"
   ]
  },
  {
   "cell_type": "code",
   "execution_count": null,
   "id": "08076bcc-e90f-4343-bac8-92c19384ed2d",
   "metadata": {},
   "outputs": [],
   "source": []
  }
 ],
 "metadata": {
  "kernelspec": {
   "display_name": "secondnv",
   "language": "python",
   "name": "secondnv"
  },
  "language_info": {
   "codemirror_mode": {
    "name": "ipython",
    "version": 3
   },
   "file_extension": ".py",
   "mimetype": "text/x-python",
   "name": "python",
   "nbconvert_exporter": "python",
   "pygments_lexer": "ipython3",
   "version": "3.9.18"
  }
 },
 "nbformat": 4,
 "nbformat_minor": 5
}
