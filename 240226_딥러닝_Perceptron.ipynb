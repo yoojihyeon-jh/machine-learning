{
 "cells": [
  {
   "cell_type": "markdown",
   "id": "db4a9fe0-3e9a-42cc-a087-a1011f5c29b2",
   "metadata": {},
   "source": [
    "Perceptron"
   ]
  },
  {
   "cell_type": "code",
   "execution_count": 1,
   "id": "13ffac24-9016-4113-a370-031c3bc1be5a",
   "metadata": {},
   "outputs": [],
   "source": [
    "import numpy as np"
   ]
  },
  {
   "cell_type": "markdown",
   "id": "1ce39cc9-0f9a-4360-8554-193a22f864ed",
   "metadata": {},
   "source": [
    "AND gate"
   ]
  },
  {
   "cell_type": "code",
   "execution_count": 2,
   "id": "d4ffc20b-9008-4ec6-ade2-96dfa2a28ad6",
   "metadata": {},
   "outputs": [
    {
     "name": "stdout",
     "output_type": "stream",
     "text": [
      "(0, 0) :\t-1\n",
      "(0, 1) :\t0\n",
      "(1, 0) :\t0\n",
      "(1, 1) :\t1\n"
     ]
    }
   ],
   "source": [
    "# 가중합\n",
    "weight = np.array([1,1])\n",
    "bias = -1\n",
    "for x1, x2 in [(0,0),(0,1),(1,0),(1,1)]:\n",
    "    sum = weight[0] *x1 + weight[1] *x2 + bias\n",
    "    print(f'({x1}, {x2}) :\\t{sum}')"
   ]
  },
  {
   "cell_type": "code",
   "execution_count": 5,
   "id": "7f65668c-eeea-43df-9e5e-4a3d573ed330",
   "metadata": {},
   "outputs": [
    {
     "name": "stdout",
     "output_type": "stream",
     "text": [
      "(0,0) : \t-1\t0\n",
      "(0,1) : \t0\t0\n",
      "(1,0) : \t0\t0\n",
      "(1,1) : \t1\t1\n"
     ]
    }
   ],
   "source": [
    "# step  활성화 함수\n",
    "for x1, x2 in [(0,0),(0,1),(1,0),(1,1)]:\n",
    "    sum = weight[0]*x1 + weight[1]*x2 + bias\n",
    "    result = 1 if sum > 0 else 0\n",
    "    print(f'({x1},{x2}) : \\t{sum}\\t{result}')"
   ]
  },
  {
   "cell_type": "code",
   "execution_count": 9,
   "id": "2be13fd4-af9f-4a17-a552-742d09991b1f",
   "metadata": {},
   "outputs": [],
   "source": [
    "def AND_gate(x):\n",
    "    weight = np.array([1,1])\n",
    "    bias = -1\n",
    "    sum = np.dot(weight,x) +bias\n",
    "    return 1 if sum > 0 else 0"
   ]
  },
  {
   "cell_type": "code",
   "execution_count": 10,
   "id": "653dfba4-fe4b-4779-b564-6f4580fd03cd",
   "metadata": {},
   "outputs": [
    {
     "name": "stdout",
     "output_type": "stream",
     "text": [
      "(0, 0) :\t0\n",
      "(0, 1) :\t0\n",
      "(1, 0) :\t0\n",
      "(1, 1) :\t1\n"
     ]
    }
   ],
   "source": [
    "for x in [(0,0),(0,1),(1,0),(1,1)]:\n",
    "    print(f'{x} :\\t{AND_gate(x)}')"
   ]
  },
  {
   "cell_type": "markdown",
   "id": "a9fdf9ed-100f-4a3f-bb6a-a022aa9464a1",
   "metadata": {},
   "source": [
    "OR gate"
   ]
  },
  {
   "cell_type": "code",
   "execution_count": 11,
   "id": "5a8862e4-79ca-48ca-929a-10a9b2d021f4",
   "metadata": {},
   "outputs": [],
   "source": [
    "def OR_gate(x):\n",
    "    weight = np.array([2,2])\n",
    "    bias = -1\n",
    "    sum = np.dot(weight, x) +bias\n",
    "    return 1 if sum >0 else 0"
   ]
  },
  {
   "cell_type": "code",
   "execution_count": 13,
   "id": "623f76a1-0b10-4ba7-9284-cd4f524198b0",
   "metadata": {},
   "outputs": [
    {
     "name": "stdout",
     "output_type": "stream",
     "text": [
      "(0, 0) :\t0\n",
      "(0, 1) :\t1\n",
      "(1, 0) :\t1\n",
      "(1, 1) :\t1\n"
     ]
    }
   ],
   "source": [
    "for x in [(0,0),(0,1),(1,0),(1,1)]:\n",
    "    print(f'{x} :\\t{OR_gate(x)}')"
   ]
  },
  {
   "cell_type": "markdown",
   "id": "1f095d4e-cca5-47da-8a49-e2c11bd3520c",
   "metadata": {},
   "source": [
    "NAND gate"
   ]
  },
  {
   "cell_type": "code",
   "execution_count": 14,
   "id": "fc3461af-bed5-45c8-910f-ff0fdca34e98",
   "metadata": {},
   "outputs": [],
   "source": [
    "def NAND_gate(x):\n",
    "    weight = np.array([-2,-2])\n",
    "    bias = 3\n",
    "    sum = np.dot(weight,x) + bias\n",
    "    return 1 if sum >0 else 0"
   ]
  },
  {
   "cell_type": "code",
   "execution_count": 15,
   "id": "0e2ff4b3-d3ab-44e1-9e5a-c4d21f7a7b49",
   "metadata": {},
   "outputs": [
    {
     "name": "stdout",
     "output_type": "stream",
     "text": [
      "(0, 0):\t1\n",
      "(0, 1):\t1\n",
      "(1, 0):\t1\n",
      "(1, 1):\t0\n"
     ]
    }
   ],
   "source": [
    "for x in [(0,0),(0,1),(1,0),(1,1)]:\n",
    "    print(f'{x}:\\t{NAND_gate(x)}')"
   ]
  },
  {
   "cell_type": "code",
   "execution_count": 17,
   "id": "a60c3242-83d4-449b-a043-a580697665ec",
   "metadata": {},
   "outputs": [
    {
     "name": "stdout",
     "output_type": "stream",
     "text": [
      "X\t\tOR\tAND\tNAND\n",
      "(0, 0):\t\t0\t0\t1\n",
      "(0, 1):\t\t1\t0\t1\n",
      "(1, 0):\t\t1\t0\t1\n",
      "(1, 1):\t\t1\t1\t0\n"
     ]
    }
   ],
   "source": [
    "print('X\\t\\tOR\\tAND\\tNAND')\n",
    "for x in [(0,0),(0,1),(1,0),(1,1)]:\n",
    "    print(f'{x}:\\t\\t{OR_gate(x)}\\t{AND_gate(x)}\\t{NAND_gate(x)}')"
   ]
  },
  {
   "cell_type": "code",
   "execution_count": null,
   "id": "1436b8f9-0296-4839-ba49-c3960fc08024",
   "metadata": {},
   "outputs": [],
   "source": []
  },
  {
   "cell_type": "code",
   "execution_count": null,
   "id": "a9ebea8b-6cfa-4664-b2c2-241da3772c46",
   "metadata": {},
   "outputs": [],
   "source": []
  },
  {
   "cell_type": "code",
   "execution_count": null,
   "id": "1322015c-a0f4-40f5-827b-674444bd723b",
   "metadata": {},
   "outputs": [],
   "source": []
  }
 ],
 "metadata": {
  "kernelspec": {
   "display_name": "secondnv",
   "language": "python",
   "name": "secondnv"
  },
  "language_info": {
   "codemirror_mode": {
    "name": "ipython",
    "version": 3
   },
   "file_extension": ".py",
   "mimetype": "text/x-python",
   "name": "python",
   "nbconvert_exporter": "python",
   "pygments_lexer": "ipython3",
   "version": "3.9.18"
  }
 },
 "nbformat": 4,
 "nbformat_minor": 5
}
